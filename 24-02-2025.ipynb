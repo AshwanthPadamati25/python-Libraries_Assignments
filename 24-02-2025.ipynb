{
 "cells": [
  {
   "cell_type": "code",
   "execution_count": 1,
   "id": "01d69534-635d-4e5c-a64b-28555b3a76fd",
   "metadata": {},
   "outputs": [],
   "source": [
    "import pandas as pd\n",
    "import numpy as np"
   ]
  },
  {
   "cell_type": "code",
   "execution_count": 16,
   "id": "6700be01-8496-4087-9d2c-f5f12ed6fd3a",
   "metadata": {},
   "outputs": [],
   "source": [
    "#movies_df = pd.read_csv(r'C:\\Users\\ashwa\\OneDrive\\Desktop')"
   ]
  },
  {
   "cell_type": "code",
   "execution_count": 18,
   "id": "ce12d5c8-ddd0-4996-a244-e9f19b82cf93",
   "metadata": {},
   "outputs": [],
   "source": [
    "#movies_df[0:5]"
   ]
  },
  {
   "cell_type": "code",
   "execution_count": 20,
   "id": "0906aa04-4b5e-4a3f-ac44-6e54833b629d",
   "metadata": {},
   "outputs": [],
   "source": [
    "#len(movies_df.userId.unique())"
   ]
  },
  {
   "cell_type": "code",
   "execution_count": 22,
   "id": "7d278add-67c4-4029-aadd-722eaad14847",
   "metadata": {},
   "outputs": [],
   "source": [
    "#len(movies_df.movie.unique())"
   ]
  },
  {
   "cell_type": "code",
   "execution_count": 68,
   "id": "56e03ee2-0cad-4471-b77f-43d5447d3926",
   "metadata": {},
   "outputs": [],
   "source": [
    "#movies_df.head()"
   ]
  },
  {
   "cell_type": "code",
   "execution_count": 26,
   "id": "f796004d-8d9a-4e68-9ae3-cb31a16c84ce",
   "metadata": {},
   "outputs": [
    {
     "data": {
      "text/plain": [
       "\"\\nuser_movies_df = movies_df.pivot(index='userId',\\n                                 columns='movie',\\n                                 values='rating').reset_index(drop=True)\\n\""
      ]
     },
     "execution_count": 26,
     "metadata": {},
     "output_type": "execute_result"
    }
   ],
   "source": [
    "'''\n",
    "user_movies_df = movies_df.pivot(index='userId',\n",
    "                                 columns='movie',\n",
    "                                 values='rating').reset_index(drop=True)\n",
    "'''"
   ]
  },
  {
   "cell_type": "code",
   "execution_count": 28,
   "id": "c84c0598-31ce-420f-8fe0-bdaa4b8a14aa",
   "metadata": {},
   "outputs": [],
   "source": [
    "#user_movies_df"
   ]
  },
  {
   "cell_type": "code",
   "execution_count": 30,
   "id": "b245bc78-0c53-4926-8fe4-764e26f3c82b",
   "metadata": {},
   "outputs": [],
   "source": [
    "#movies_df.shape"
   ]
  },
  {
   "cell_type": "code",
   "execution_count": 32,
   "id": "5ce5afb0-34da-48b9-a558-f2369943c2f8",
   "metadata": {},
   "outputs": [],
   "source": [
    "#user_movies_df.index = movies_df.userId.unique()"
   ]
  },
  {
   "cell_type": "code",
   "execution_count": 34,
   "id": "a590834b-7632-4d99-a44b-7ed4843b638b",
   "metadata": {},
   "outputs": [],
   "source": [
    "#user_movies_df"
   ]
  },
  {
   "cell_type": "code",
   "execution_count": 36,
   "id": "67f24d3f-56b4-4f14-9e20-259f4e23eb1a",
   "metadata": {},
   "outputs": [],
   "source": [
    "#user_movies_df.fillna(0, inplace=True)"
   ]
  },
  {
   "cell_type": "code",
   "execution_count": 38,
   "id": "ecefbea8-8d7f-40ba-aca3-527a3a6ec0b1",
   "metadata": {},
   "outputs": [],
   "source": [
    "#user_movies_df"
   ]
  },
  {
   "cell_type": "code",
   "execution_count": 40,
   "id": "2ca06a21-002b-4c04-9db1-454156a5444d",
   "metadata": {},
   "outputs": [],
   "source": [
    "\n",
    "#from sklearn.metrics import pairwise_distances\n",
    "#from scipy.spatial.distance import cosine, correlation"
   ]
  },
  {
   "cell_type": "code",
   "execution_count": 42,
   "id": "a2a98b90-d08a-4b8a-9671-a51a3db51529",
   "metadata": {},
   "outputs": [],
   "source": [
    "#user_sim = 1 - pairwise_distances( user_movies_df.values,metric='cosine')"
   ]
  },
  {
   "cell_type": "code",
   "execution_count": 44,
   "id": "16f8273d-3c7a-461e-a0fb-45a3812e3dff",
   "metadata": {},
   "outputs": [],
   "source": [
    "#user_sim"
   ]
  },
  {
   "cell_type": "code",
   "execution_count": 46,
   "id": "5d50078d-48ea-480e-847b-25251b34d327",
   "metadata": {},
   "outputs": [],
   "source": [
    "#user_sim_df = pd.DataFrame(user_sim)\n",
    "#user_sim_df.head()"
   ]
  },
  {
   "cell_type": "code",
   "execution_count": 48,
   "id": "3753cdfc-f3c7-484c-916d-096f7b32ddf0",
   "metadata": {},
   "outputs": [],
   "source": [
    "#user_sim_df.index = movies_df.userId.unique()\n",
    "#user_sim_df.columns = movies_df.userId.unique()"
   ]
  },
  {
   "cell_type": "code",
   "execution_count": 50,
   "id": "37336466-8a42-4087-8395-1596b4c1619e",
   "metadata": {},
   "outputs": [],
   "source": [
    "#user_sim_df.iloc[0:5, 0:5]"
   ]
  },
  {
   "cell_type": "code",
   "execution_count": 52,
   "id": "0caded12-e07b-477c-9170-becb2921e828",
   "metadata": {},
   "outputs": [],
   "source": [
    "#np.fill_diagonal(user_sim, 0)\n",
    "#user_sim_df.iloc[0:5, 0:5]"
   ]
  },
  {
   "cell_type": "code",
   "execution_count": 54,
   "id": "2b788e87-2067-4e8f-af7a-6ba18107baa3",
   "metadata": {},
   "outputs": [],
   "source": [
    "#user_sim_df.idxmax(axis=1)[0:5]"
   ]
  },
  {
   "cell_type": "code",
   "execution_count": 56,
   "id": "f70a6894-542d-4c23-86cf-02e60f09514f",
   "metadata": {},
   "outputs": [],
   "source": [
    "#movies_df[(movies_df['userId']==6) | (movies_df['userId']==168)]"
   ]
  },
  {
   "cell_type": "code",
   "execution_count": 58,
   "id": "fbb5115f-5430-4a64-9515-6d2e8dafcf27",
   "metadata": {},
   "outputs": [],
   "source": [
    "#user_1=movies_df[movies_df['userId']==6]"
   ]
  },
  {
   "cell_type": "code",
   "execution_count": 60,
   "id": "b8a2cbb0-3cf8-4782-897a-e85a1e5559b5",
   "metadata": {},
   "outputs": [],
   "source": [
    "#user_2=movies_df[movies_df['userId']==11]"
   ]
  },
  {
   "cell_type": "code",
   "execution_count": 62,
   "id": "09aace81-b9b7-453e-b8ab-e2aeb4941f22",
   "metadata": {},
   "outputs": [],
   "source": [
    "#user_2.movie"
   ]
  },
  {
   "cell_type": "code",
   "execution_count": 64,
   "id": "1cb75493-5a82-4e30-ba19-a79169017991",
   "metadata": {},
   "outputs": [],
   "source": [
    "#user_1.movie"
   ]
  },
  {
   "cell_type": "code",
   "execution_count": 66,
   "id": "981e4fde-834e-4d1d-a3b8-1c3dd00243b5",
   "metadata": {},
   "outputs": [],
   "source": [
    "#pd.merge(user_1,user_2,on='movie',how='outer')"
   ]
  },
  {
   "cell_type": "code",
   "execution_count": null,
   "id": "0d8c76dd-c667-4c6e-8010-7431a0a3910f",
   "metadata": {},
   "outputs": [],
   "source": []
  }
 ],
 "metadata": {
  "kernelspec": {
   "display_name": "Python [conda env:anaconda3]",
   "language": "python",
   "name": "conda-env-anaconda3-py"
  },
  "language_info": {
   "codemirror_mode": {
    "name": "ipython",
    "version": 3
   },
   "file_extension": ".py",
   "mimetype": "text/x-python",
   "name": "python",
   "nbconvert_exporter": "python",
   "pygments_lexer": "ipython3",
   "version": "3.12.7"
  }
 },
 "nbformat": 4,
 "nbformat_minor": 5
}
